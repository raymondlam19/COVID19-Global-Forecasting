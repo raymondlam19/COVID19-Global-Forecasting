{
 "cells": [
  {
   "cell_type": "markdown",
   "metadata": {},
   "source": [
    "In this kernal i'm going to create a predictive model for covid19 global-forecasting week 5 data which contains around 7 lakhs data for  training and we have to predict the target values for 3 lakhs test data\n",
    "\n",
    "In this model first i have did some analysis with the data with some graphs and also the the effect of corona in  India have been analysed seperately.\n",
    "\n",
    "Finally I created a ensemble learning model with almost 0.96 Rsquared score"
   ]
  },
  {
   "cell_type": "code",
   "execution_count": 1,
   "metadata": {
    "_cell_guid": "b1076dfc-b9ad-4769-8c92-a6c4dae69d19",
    "_uuid": "8f2839f25d086af736a60e9eeb907d3b93b6e0e5"
   },
   "outputs": [
    {
     "name": "stdout",
     "output_type": "stream",
     "text": [
      "/kaggle/input/covid19-global-forecasting-week-5/train.csv\n",
      "/kaggle/input/covid19-global-forecasting-week-5/submission.csv\n",
      "/kaggle/input/covid19-global-forecasting-week-5/test.csv\n"
     ]
    }
   ],
   "source": [
    "# This Python 3 environment comes with many helpful analytics libraries installed\n",
    "# It is defined by the kaggle/python Docker image: https://github.com/kaggle/docker-python\n",
    "# For example, here's several helpful packages to load\n",
    "\n",
    "import numpy as np # linear algebra\n",
    "import pandas as pd # data processing, CSV file I/O (e.g. pd.read_csv\n",
    "from matplotlib import pyplot as plt\n",
    "\n",
    "# Input data files are available in the read-only \"../input/\" directory\n",
    "# For example, running this (by clicking run or pressing Shift+Enter) will list all files under the input directory\n",
    "\n",
    "import os\n",
    "for dirname, _, filenames in os.walk('/kaggle/input'):\n",
    "    for filename in filenames:\n",
    "        print(os.path.join(dirname, filename))\n",
    "pd.set_option('display.max_rows', 500)\n",
    "pd.set_option('display.max_columns', 500)\n",
    "pd.set_option('display.width', 1000)\n",
    "\n",
    "# You can write up to 5GB to the current directory (/kaggle/working/) that gets preserved as output when you create a version using \"Save & Run All\" \n",
    "# You can also write temporary files to /kaggle/temp/, but they won't be saved outside of the current session"
   ]
  },
  {
   "cell_type": "code",
   "execution_count": 2,
   "metadata": {
    "_cell_guid": "79c7e3d0-c299-4dcb-8224-4455121ee9b0",
    "_uuid": "d629ff2d2480ee46fbb7e2d37f6b5fab8052498a"
   },
   "outputs": [],
   "source": [
    "train = pd.read_csv('/kaggle/input/covid19-global-forecasting-week-5/train.csv')\n",
    "test = pd.read_csv('/kaggle/input/covid19-global-forecasting-week-5/test.csv')"
   ]
  },
  {
   "cell_type": "code",
   "execution_count": 3,
   "metadata": {},
   "outputs": [
    {
     "data": {
      "text/html": [
       "<div>\n",
       "<style scoped>\n",
       "    .dataframe tbody tr th:only-of-type {\n",
       "        vertical-align: middle;\n",
       "    }\n",
       "\n",
       "    .dataframe tbody tr th {\n",
       "        vertical-align: top;\n",
       "    }\n",
       "\n",
       "    .dataframe thead th {\n",
       "        text-align: right;\n",
       "    }\n",
       "</style>\n",
       "<table border=\"1\" class=\"dataframe\">\n",
       "  <thead>\n",
       "    <tr style=\"text-align: right;\">\n",
       "      <th></th>\n",
       "      <th>Id</th>\n",
       "      <th>County</th>\n",
       "      <th>Province_State</th>\n",
       "      <th>Country_Region</th>\n",
       "      <th>Population</th>\n",
       "      <th>Weight</th>\n",
       "      <th>Date</th>\n",
       "      <th>Target</th>\n",
       "      <th>TargetValue</th>\n",
       "    </tr>\n",
       "  </thead>\n",
       "  <tbody>\n",
       "    <tr>\n",
       "      <th>0</th>\n",
       "      <td>1</td>\n",
       "      <td>NaN</td>\n",
       "      <td>NaN</td>\n",
       "      <td>Afghanistan</td>\n",
       "      <td>27657145</td>\n",
       "      <td>0.058359</td>\n",
       "      <td>2020-01-23</td>\n",
       "      <td>ConfirmedCases</td>\n",
       "      <td>0.0</td>\n",
       "    </tr>\n",
       "    <tr>\n",
       "      <th>1</th>\n",
       "      <td>2</td>\n",
       "      <td>NaN</td>\n",
       "      <td>NaN</td>\n",
       "      <td>Afghanistan</td>\n",
       "      <td>27657145</td>\n",
       "      <td>0.583587</td>\n",
       "      <td>2020-01-23</td>\n",
       "      <td>Fatalities</td>\n",
       "      <td>0.0</td>\n",
       "    </tr>\n",
       "    <tr>\n",
       "      <th>2</th>\n",
       "      <td>3</td>\n",
       "      <td>NaN</td>\n",
       "      <td>NaN</td>\n",
       "      <td>Afghanistan</td>\n",
       "      <td>27657145</td>\n",
       "      <td>0.058359</td>\n",
       "      <td>2020-01-24</td>\n",
       "      <td>ConfirmedCases</td>\n",
       "      <td>0.0</td>\n",
       "    </tr>\n",
       "  </tbody>\n",
       "</table>\n",
       "</div>"
      ],
      "text/plain": [
       "   Id County Province_State Country_Region  Population    Weight        Date          Target  TargetValue\n",
       "0   1    NaN            NaN    Afghanistan    27657145  0.058359  2020-01-23  ConfirmedCases          0.0\n",
       "1   2    NaN            NaN    Afghanistan    27657145  0.583587  2020-01-23      Fatalities          0.0\n",
       "2   3    NaN            NaN    Afghanistan    27657145  0.058359  2020-01-24  ConfirmedCases          0.0"
      ]
     },
     "execution_count": 3,
     "metadata": {},
     "output_type": "execute_result"
    }
   ],
   "source": [
    "train.head(3)"
   ]
  },
  {
   "cell_type": "code",
   "execution_count": 4,
   "metadata": {},
   "outputs": [],
   "source": [
    "import seaborn as sns"
   ]
  },
  {
   "cell_type": "code",
   "execution_count": 5,
   "metadata": {},
   "outputs": [
    {
     "name": "stdout",
     "output_type": "stream",
     "text": [
      "<class 'pandas.core.frame.DataFrame'>\n",
      "RangeIndex: 748008 entries, 0 to 748007\n",
      "Data columns (total 9 columns):\n",
      " #   Column          Non-Null Count   Dtype  \n",
      "---  ------          --------------   -----  \n",
      " 0   Id              748008 non-null  int64  \n",
      " 1   County          678888 non-null  object \n",
      " 2   Province_State  707616 non-null  object \n",
      " 3   Country_Region  748008 non-null  object \n",
      " 4   Population      748008 non-null  int64  \n",
      " 5   Weight          748008 non-null  float64\n",
      " 6   Date            748008 non-null  object \n",
      " 7   Target          748008 non-null  object \n",
      " 8   TargetValue     748008 non-null  float64\n",
      "dtypes: float64(2), int64(2), object(5)\n",
      "memory usage: 51.4+ MB\n"
     ]
    }
   ],
   "source": [
    "train.info()"
   ]
  },
  {
   "cell_type": "markdown",
   "metadata": {},
   "source": [
    "# <center>Top 20 in Population</center>"
   ]
  },
  {
   "cell_type": "code",
   "execution_count": 6,
   "metadata": {},
   "outputs": [],
   "source": [
    "df1 = train.Population.groupby(train['Country_Region']).max().sort_values(ascending= False)\n",
    "df10 = pd.DataFrame()\n",
    "df20 = pd.DataFrame()\n",
    "df10['population'] = df1.iloc[0:10]\n",
    "df10['country']= df10.index\n",
    "df20['population'] = df1.iloc[11:20]\n",
    "df20['country'] = df20.index"
   ]
  },
  {
   "cell_type": "code",
   "execution_count": 7,
   "metadata": {},
   "outputs": [
    {
     "data": {
      "text/plain": [
       "Text(0.5, 1.0, 'Population Next 10')"
      ]
     },
     "execution_count": 7,
     "metadata": {},
     "output_type": "execute_result"
    },
    {
     "data": {
      "image/png": "[encoded data removed]",
      "text/plain": [
       "<Figure size 720x720 with 2 Axes>"
      ]
     },
     "metadata": {
      "needs_background": "light"
     },
     "output_type": "display_data"
    }
   ],
   "source": [
    "plt.figure(figsize =(10,10))\n",
    "plt.subplot(2,1,1)\n",
    "sns.barplot(x='country', y='population', data=df10, orient ='v')\n",
    "plt.xlabel('Country')\n",
    "plt.title('Popoulation Top 10')\n",
    "plt.subplot(2,1,2)\n",
    "sns.barplot(x='country', y='population', data=df20, orient ='v')\n",
    "plt.xlabel('Country')\n",
    "plt.title('Population Next 10')"
   ]
  },
  {
   "cell_type": "markdown",
   "metadata": {},
   "source": [
    "# <center>Top 20 in Confirmed Cases</center>"
   ]
  },
  {
   "cell_type": "code",
   "execution_count": 8,
   "metadata": {},
   "outputs": [],
   "source": [
    "train1= train[train['Target']=='ConfirmedCases']\n",
    "data1 = pd.DataFrame()\n",
    "data1['values'] =train1.TargetValue.groupby(train1['Country_Region']).sum().sort_values(ascending= False)\n",
    "data1['country'] = data1.index\n",
    "data1.index = np.arange(0,len(data1))\n",
    "data10 = data1.iloc[0:10,:]\n",
    "data20 = data1.iloc[11:20,:]"
   ]
  },
  {
   "cell_type": "code",
   "execution_count": 9,
   "metadata": {},
   "outputs": [
    {
     "data": {
      "text/plain": [
       "Text(0.5, 1.0, 'Covid Cases Next 10')"
      ]
     },
     "execution_count": 9,
     "metadata": {},
     "output_type": "execute_result"
    },
    {
     "data": {
      "image/png": "[encoded data removed]",
      "text/plain": [
       "<Figure size 720x720 with 2 Axes>"
      ]
     },
     "metadata": {
      "needs_background": "light"
     },
     "output_type": "display_data"
    }
   ],
   "source": [
    "plt.figure(figsize =(10,10))\n",
    "plt.subplot(2,1,1)\n",
    "sns.barplot(x='country', y='values', data=data10, orient ='v')\n",
    "plt.xlabel('Country')\n",
    "plt.ylabel('Cases')\n",
    "plt.title('Covid Cases Top 10')\n",
    "plt.subplot(2,1,2)\n",
    "sns.barplot(x='country', y='values', data=data20, orient ='v')\n",
    "plt.xlabel('Country')\n",
    "plt.ylabel('Cases')\n",
    "plt.title('Covid Cases Next 10')"
   ]
  },
  {
   "cell_type": "markdown",
   "metadata": {},
   "source": [
    "# <center>Top 20 in Deaths</center>"
   ]
  },
  {
   "cell_type": "code",
   "execution_count": 10,
   "metadata": {},
   "outputs": [],
   "source": [
    "train1= train[train['Target']!='ConfirmedCases']\n",
    "data1 = pd.DataFrame()\n",
    "data1['values'] =train1.TargetValue.groupby(train1['Country_Region']).sum().sort_values(ascending= False)\n",
    "data1['country'] = data1.index\n",
    "data1.index = np.arange(0,len(data1))\n",
    "data10 = data1.iloc[0:10,:]\n",
    "data20 = data1.iloc[11:20,:]"
   ]
  },
  {
   "cell_type": "code",
   "execution_count": 11,
   "metadata": {},
   "outputs": [
    {
     "data": {
      "text/plain": [
       "Text(0.5, 1.0, 'Covid Cases Next 10')"
      ]
     },
     "execution_count": 11,
     "metadata": {},
     "output_type": "execute_result"
    },
    {
     "data": {
      "image/png": "[encoded data removed]",
      "text/plain": [
       "<Figure size 720x720 with 2 Axes>"
      ]
     },
     "metadata": {
      "needs_background": "light"
     },
     "output_type": "display_data"
    }
   ],
   "source": [
    "plt.figure(figsize =(10,10))\n",
    "plt.subplot(2,1,1)\n",
    "sns.barplot(x='country', y='values', data=data10, orient ='v')\n",
    "plt.xlabel('Country')\n",
    "plt.ylabel('Deaths')\n",
    "plt.title('Covid Cases Top 10')\n",
    "plt.subplot(2,1,2)\n",
    "sns.barplot(x='country', y='values', data=data20, orient ='v')\n",
    "plt.xlabel('Country')\n",
    "plt.ylabel('Deaths')\n",
    "plt.title('Covid Cases Next 10')"
   ]
  },
  {
   "cell_type": "markdown",
   "metadata": {},
   "source": [
    "# <center>Fatalities vs Confirmed cases(WW)</center>"
   ]
  },
  {
   "cell_type": "code",
   "execution_count": 12,
   "metadata": {},
   "outputs": [
    {
     "data": {
      "image/png": "[encoded data removed]",
      "text/plain": [
       "<Figure size 360x360 with 1 Axes>"
      ]
     },
     "metadata": {},
     "output_type": "display_data"
    }
   ],
   "source": [
    "df = train['TargetValue'].groupby(train['Target']).sum()\n",
    "labels =[df.index[0],df.index[1]]\n",
    "sizes = [df[0],df[1]]\n",
    "explode = (0, 0.2)  \n",
    "\n",
    "plt.figure(figsize = (5,5))\n",
    "plt.pie(sizes, explode=explode, labels=labels, autopct='%1.1f%%',\n",
    "        shadow=True, startangle=90)\n",
    "\n",
    "plt.show()"
   ]
  },
  {
   "cell_type": "markdown",
   "metadata": {},
   "source": [
    "# <center>Analysing the cases in India</center>"
   ]
  },
  {
   "cell_type": "code",
   "execution_count": 13,
   "metadata": {},
   "outputs": [],
   "source": [
    "india = train[train['Country_Region']=='India']"
   ]
  },
  {
   "cell_type": "code",
   "execution_count": 14,
   "metadata": {},
   "outputs": [
    {
     "name": "stdout",
     "output_type": "stream",
     "text": [
      "<class 'pandas.core.frame.DataFrame'>\n",
      "Int64Index: 216 entries, 31104 to 31319\n",
      "Data columns (total 9 columns):\n",
      " #   Column          Non-Null Count  Dtype  \n",
      "---  ------          --------------  -----  \n",
      " 0   Id              216 non-null    int64  \n",
      " 1   County          0 non-null      object \n",
      " 2   Province_State  0 non-null      object \n",
      " 3   Country_Region  216 non-null    object \n",
      " 4   Population      216 non-null    int64  \n",
      " 5   Weight          216 non-null    float64\n",
      " 6   Date            216 non-null    object \n",
      " 7   Target          216 non-null    object \n",
      " 8   TargetValue     216 non-null    float64\n",
      "dtypes: float64(2), int64(2), object(5)\n",
      "memory usage: 16.9+ KB\n"
     ]
    }
   ],
   "source": [
    "india.info()"
   ]
  },
  {
   "cell_type": "code",
   "execution_count": 15,
   "metadata": {},
   "outputs": [
    {
     "name": "stderr",
     "output_type": "stream",
     "text": [
      "/opt/conda/lib/python3.7/site-packages/pandas/core/frame.py:3997: SettingWithCopyWarning: \n",
      "A value is trying to be set on a copy of a slice from a DataFrame\n",
      "\n",
      "See the caveats in the documentation: https://pandas.pydata.org/pandas-docs/stable/user_guide/indexing.html#returning-a-view-versus-a-copy\n",
      "  errors=errors,\n"
     ]
    }
   ],
   "source": [
    "india.drop(['County','Province_State'],axis =1,inplace =True)"
   ]
  },
  {
   "cell_type": "code",
   "execution_count": 16,
   "metadata": {},
   "outputs": [
    {
     "data": {
      "text/html": [
       "<div>\n",
       "<style scoped>\n",
       "    .dataframe tbody tr th:only-of-type {\n",
       "        vertical-align: middle;\n",
       "    }\n",
       "\n",
       "    .dataframe tbody tr th {\n",
       "        vertical-align: top;\n",
       "    }\n",
       "\n",
       "    .dataframe thead th {\n",
       "        text-align: right;\n",
       "    }\n",
       "</style>\n",
       "<table border=\"1\" class=\"dataframe\">\n",
       "  <thead>\n",
       "    <tr style=\"text-align: right;\">\n",
       "      <th></th>\n",
       "      <th>Id</th>\n",
       "      <th>Country_Region</th>\n",
       "      <th>Population</th>\n",
       "      <th>Weight</th>\n",
       "      <th>Date</th>\n",
       "      <th>Target</th>\n",
       "      <th>TargetValue</th>\n",
       "    </tr>\n",
       "  </thead>\n",
       "  <tbody>\n",
       "    <tr>\n",
       "      <th>31104</th>\n",
       "      <td>40321</td>\n",
       "      <td>India</td>\n",
       "      <td>1295210000</td>\n",
       "      <td>0.04766</td>\n",
       "      <td>2020-01-23</td>\n",
       "      <td>ConfirmedCases</td>\n",
       "      <td>0.0</td>\n",
       "    </tr>\n",
       "    <tr>\n",
       "      <th>31105</th>\n",
       "      <td>40322</td>\n",
       "      <td>India</td>\n",
       "      <td>1295210000</td>\n",
       "      <td>0.47660</td>\n",
       "      <td>2020-01-23</td>\n",
       "      <td>Fatalities</td>\n",
       "      <td>0.0</td>\n",
       "    </tr>\n",
       "  </tbody>\n",
       "</table>\n",
       "</div>"
      ],
      "text/plain": [
       "          Id Country_Region  Population   Weight        Date          Target  TargetValue\n",
       "31104  40321          India  1295210000  0.04766  2020-01-23  ConfirmedCases          0.0\n",
       "31105  40322          India  1295210000  0.47660  2020-01-23      Fatalities          0.0"
      ]
     },
     "execution_count": 16,
     "metadata": {},
     "output_type": "execute_result"
    }
   ],
   "source": [
    "india.head(2)"
   ]
  },
  {
   "cell_type": "code",
   "execution_count": 17,
   "metadata": {},
   "outputs": [],
   "source": [
    "india.index = np.arange(0,len(india)) #rechanging the index"
   ]
  },
  {
   "cell_type": "code",
   "execution_count": 18,
   "metadata": {},
   "outputs": [
    {
     "data": {
      "text/html": [
       "<div>\n",
       "<style scoped>\n",
       "    .dataframe tbody tr th:only-of-type {\n",
       "        vertical-align: middle;\n",
       "    }\n",
       "\n",
       "    .dataframe tbody tr th {\n",
       "        vertical-align: top;\n",
       "    }\n",
       "\n",
       "    .dataframe thead th {\n",
       "        text-align: right;\n",
       "    }\n",
       "</style>\n",
       "<table border=\"1\" class=\"dataframe\">\n",
       "  <thead>\n",
       "    <tr style=\"text-align: right;\">\n",
       "      <th></th>\n",
       "      <th>Id</th>\n",
       "      <th>Country_Region</th>\n",
       "      <th>Population</th>\n",
       "      <th>Weight</th>\n",
       "      <th>Date</th>\n",
       "      <th>Target</th>\n",
       "      <th>TargetValue</th>\n",
       "    </tr>\n",
       "  </thead>\n",
       "  <tbody>\n",
       "    <tr>\n",
       "      <th>0</th>\n",
       "      <td>40321</td>\n",
       "      <td>India</td>\n",
       "      <td>1295210000</td>\n",
       "      <td>0.04766</td>\n",
       "      <td>2020-01-23</td>\n",
       "      <td>ConfirmedCases</td>\n",
       "      <td>0.0</td>\n",
       "    </tr>\n",
       "    <tr>\n",
       "      <th>1</th>\n",
       "      <td>40322</td>\n",
       "      <td>India</td>\n",
       "      <td>1295210000</td>\n",
       "      <td>0.47660</td>\n",
       "      <td>2020-01-23</td>\n",
       "      <td>Fatalities</td>\n",
       "      <td>0.0</td>\n",
       "    </tr>\n",
       "  </tbody>\n",
       "</table>\n",
       "</div>"
      ],
      "text/plain": [
       "      Id Country_Region  Population   Weight        Date          Target  TargetValue\n",
       "0  40321          India  1295210000  0.04766  2020-01-23  ConfirmedCases          0.0\n",
       "1  40322          India  1295210000  0.47660  2020-01-23      Fatalities          0.0"
      ]
     },
     "execution_count": 18,
     "metadata": {},
     "output_type": "execute_result"
    }
   ],
   "source": [
    "india.head(2)"
   ]
  },
  {
   "cell_type": "code",
   "execution_count": 19,
   "metadata": {},
   "outputs": [],
   "source": [
    "ind = india[india['Target']=='ConfirmedCases']\n",
    "ind.index = np.arange(0,len(ind))"
   ]
  },
  {
   "cell_type": "code",
   "execution_count": 20,
   "metadata": {},
   "outputs": [
    {
     "data": {
      "text/html": [
       "<div>\n",
       "<style scoped>\n",
       "    .dataframe tbody tr th:only-of-type {\n",
       "        vertical-align: middle;\n",
       "    }\n",
       "\n",
       "    .dataframe tbody tr th {\n",
       "        vertical-align: top;\n",
       "    }\n",
       "\n",
       "    .dataframe thead th {\n",
       "        text-align: right;\n",
       "    }\n",
       "</style>\n",
       "<table border=\"1\" class=\"dataframe\">\n",
       "  <thead>\n",
       "    <tr style=\"text-align: right;\">\n",
       "      <th></th>\n",
       "      <th>Id</th>\n",
       "      <th>Country_Region</th>\n",
       "      <th>Population</th>\n",
       "      <th>Weight</th>\n",
       "      <th>Date</th>\n",
       "      <th>Target</th>\n",
       "      <th>TargetValue</th>\n",
       "    </tr>\n",
       "  </thead>\n",
       "  <tbody>\n",
       "    <tr>\n",
       "      <th>0</th>\n",
       "      <td>40321</td>\n",
       "      <td>India</td>\n",
       "      <td>1295210000</td>\n",
       "      <td>0.04766</td>\n",
       "      <td>2020-01-23</td>\n",
       "      <td>ConfirmedCases</td>\n",
       "      <td>0.0</td>\n",
       "    </tr>\n",
       "    <tr>\n",
       "      <th>1</th>\n",
       "      <td>40323</td>\n",
       "      <td>India</td>\n",
       "      <td>1295210000</td>\n",
       "      <td>0.04766</td>\n",
       "      <td>2020-01-24</td>\n",
       "      <td>ConfirmedCases</td>\n",
       "      <td>0.0</td>\n",
       "    </tr>\n",
       "  </tbody>\n",
       "</table>\n",
       "</div>"
      ],
      "text/plain": [
       "      Id Country_Region  Population   Weight        Date          Target  TargetValue\n",
       "0  40321          India  1295210000  0.04766  2020-01-23  ConfirmedCases          0.0\n",
       "1  40323          India  1295210000  0.04766  2020-01-24  ConfirmedCases          0.0"
      ]
     },
     "execution_count": 20,
     "metadata": {},
     "output_type": "execute_result"
    }
   ],
   "source": [
    "ind.head(2)"
   ]
  },
  {
   "cell_type": "code",
   "execution_count": 21,
   "metadata": {},
   "outputs": [
    {
     "name": "stdout",
     "output_type": "stream",
     "text": [
      "Date with more no.of cases in india ['2020-05-04']\n",
      "The cases are [3932.]\n"
     ]
    }
   ],
   "source": [
    "print(\"Date with more no.of cases in india {}\".format((ind[ind['TargetValue']==ind['TargetValue'].max()]['Date']).values))\n",
    "print(\"The cases are {}\".format((ind[ind['TargetValue']==ind['TargetValue'].max()]['TargetValue']).values))"
   ]
  },
  {
   "cell_type": "code",
   "execution_count": 22,
   "metadata": {},
   "outputs": [
    {
     "name": "stdout",
     "output_type": "stream",
     "text": [
      "[1.0, 3.0, 1397.0, 34863.0, 62808.0]\n"
     ]
    }
   ],
   "source": [
    "list1 = []\n",
    "for i in range(2,7):\n",
    "    date = '2020'+'-0'+str(i)+'-01'\n",
    "    list1.append(ind[ind['Date']<date]['TargetValue'].sum())\n",
    "print(list1)"
   ]
  },
  {
   "cell_type": "markdown",
   "metadata": {},
   "source": [
    "# <center>Monthly Progression of disease </center>"
   ]
  },
  {
   "cell_type": "code",
   "execution_count": 23,
   "metadata": {},
   "outputs": [
    {
     "data": {
      "text/plain": [
       "<matplotlib.axes._subplots.AxesSubplot at 0x7fcfd89eab50>"
      ]
     },
     "execution_count": 23,
     "metadata": {},
     "output_type": "execute_result"
    },
    {
     "data": {
      "image/png": "[encoded data removed]",
      "text/plain": [
       "<Figure size 432x288 with 1 Axes>"
      ]
     },
     "metadata": {
      "needs_background": "light"
     },
     "output_type": "display_data"
    }
   ],
   "source": [
    "sns.barplot(['upto Jan','Upto Feb','Upto Mar', 'Upto Apr','Upto May'],list1)"
   ]
  },
  {
   "cell_type": "code",
   "execution_count": 24,
   "metadata": {},
   "outputs": [
    {
     "name": "stdout",
     "output_type": "stream",
     "text": [
      "[1.0, 2.0, 1394.0, 33466.0, 27945.0]\n"
     ]
    }
   ],
   "source": [
    "list2 =[]\n",
    "for i in range(len(list1)):\n",
    "    if i ==0:\n",
    "        list2.append(list1[i])\n",
    "    else:\n",
    "        list2.append(list1[i]-list1[i-1])\n",
    "print(list2)"
   ]
  },
  {
   "cell_type": "markdown",
   "metadata": {},
   "source": [
    "# <center>Count per month</center>"
   ]
  },
  {
   "cell_type": "code",
   "execution_count": 25,
   "metadata": {},
   "outputs": [
    {
     "data": {
      "text/plain": [
       "<matplotlib.axes._subplots.AxesSubplot at 0x7fcfd89777d0>"
      ]
     },
     "execution_count": 25,
     "metadata": {},
     "output_type": "execute_result"
    },
    {
     "data": {
      "image/png": "[encoded data removed]",
      "text/plain": [
       "<Figure size 432x288 with 1 Axes>"
      ]
     },
     "metadata": {
      "needs_background": "light"
     },
     "output_type": "display_data"
    }
   ],
   "source": [
    "labels =['Jan','Feb','Mar','Apr','May']\n",
    "sns.barplot(labels,list2)"
   ]
  },
  {
   "cell_type": "markdown",
   "metadata": {},
   "source": [
    "# <center>Fatalities vs Confirmed cases(India)</center>"
   ]
  },
  {
   "cell_type": "code",
   "execution_count": 26,
   "metadata": {},
   "outputs": [
    {
     "data": {
      "text/plain": [
       "Target\n",
       "ConfirmedCases    62808.0\n",
       "Fatalities         2101.0\n",
       "Name: TargetValue, dtype: float64"
      ]
     },
     "execution_count": 26,
     "metadata": {},
     "output_type": "execute_result"
    }
   ],
   "source": [
    "df = india['TargetValue'].groupby(train['Target']).sum()\n",
    "df"
   ]
  },
  {
   "cell_type": "code",
   "execution_count": 27,
   "metadata": {},
   "outputs": [
    {
     "data": {
      "image/png": "[encoded data removed]",
      "text/plain": [
       "<Figure size 360x360 with 1 Axes>"
      ]
     },
     "metadata": {},
     "output_type": "display_data"
    }
   ],
   "source": [
    "labels =[df.index[0],df.index[1]]\n",
    "sizes = [df[0],df[1]]\n",
    "explode = (0, 0.2)  \n",
    "plt.figure(figsize = (5,5))\n",
    "\n",
    "plt.pie(sizes, explode=explode, labels=labels, autopct='%1.1f%%',\n",
    "        shadow=True, startangle=90)\n",
    "\n",
    "plt.show()"
   ]
  },
  {
   "cell_type": "code",
   "execution_count": 28,
   "metadata": {},
   "outputs": [],
   "source": [
    "wor = train[train['Target']=='ConfirmedCases']"
   ]
  },
  {
   "cell_type": "code",
   "execution_count": 29,
   "metadata": {},
   "outputs": [
    {
     "name": "stdout",
     "output_type": "stream",
     "text": [
      "Date with more no.of cases  ['2020-04-24']\n",
      "The cases are [36163.]\n",
      "The Country is ['US']\n"
     ]
    }
   ],
   "source": [
    "print(\"Date with more no.of cases  {}\".format((wor[wor['TargetValue']==wor['TargetValue'].max()]['Date']).values))\n",
    "print(\"The cases are {}\".format((wor[wor['TargetValue']==wor['TargetValue'].max()]['TargetValue']).values))\n",
    "print(\"The Country is {}\".format((wor[wor['TargetValue']==wor['TargetValue'].max()]['Country_Region']).values))"
   ]
  },
  {
   "cell_type": "code",
   "execution_count": 30,
   "metadata": {},
   "outputs": [
    {
     "data": {
      "text/plain": [
       "Index(['Id', 'County', 'Province_State', 'Country_Region', 'Population', 'Weight', 'Date', 'Target', 'TargetValue'], dtype='object')"
      ]
     },
     "execution_count": 30,
     "metadata": {},
     "output_type": "execute_result"
    }
   ],
   "source": [
    "wor.columns"
   ]
  },
  {
   "cell_type": "code",
   "execution_count": 31,
   "metadata": {},
   "outputs": [],
   "source": [
    "independent_columns = ['Country_Region','Weight','Target','Date']\n",
    "dependent_column = ['TargetValue']"
   ]
  },
  {
   "cell_type": "code",
   "execution_count": 32,
   "metadata": {},
   "outputs": [],
   "source": [
    "X= train[independent_columns]\n",
    "y = train[dependent_column]"
   ]
  },
  {
   "cell_type": "code",
   "execution_count": 33,
   "metadata": {},
   "outputs": [
    {
     "name": "stderr",
     "output_type": "stream",
     "text": [
      "/opt/conda/lib/python3.7/site-packages/ipykernel_launcher.py:3: SettingWithCopyWarning: \n",
      "A value is trying to be set on a copy of a slice from a DataFrame.\n",
      "Try using .loc[row_indexer,col_indexer] = value instead\n",
      "\n",
      "See the caveats in the documentation: https://pandas.pydata.org/pandas-docs/stable/user_guide/indexing.html#returning-a-view-versus-a-copy\n",
      "  This is separate from the ipykernel package so we can avoid doing imports until\n"
     ]
    }
   ],
   "source": [
    "from sklearn.preprocessing import LabelEncoder\n",
    "le = LabelEncoder()\n",
    "X['Target']=le.fit_transform(X['Target'])"
   ]
  },
  {
   "cell_type": "code",
   "execution_count": 34,
   "metadata": {},
   "outputs": [
    {
     "name": "stdout",
     "output_type": "stream",
     "text": [
      "<class 'pandas.core.frame.DataFrame'>\n",
      "RangeIndex: 748008 entries, 0 to 748007\n",
      "Data columns (total 4 columns):\n",
      " #   Column          Non-Null Count   Dtype  \n",
      "---  ------          --------------   -----  \n",
      " 0   Country_Region  748008 non-null  object \n",
      " 1   Weight          748008 non-null  float64\n",
      " 2   Target          748008 non-null  int64  \n",
      " 3   Date            748008 non-null  object \n",
      "dtypes: float64(1), int64(1), object(2)\n",
      "memory usage: 22.8+ MB\n"
     ]
    }
   ],
   "source": [
    "X.info()"
   ]
  },
  {
   "cell_type": "markdown",
   "metadata": {},
   "source": [
    "# <center>Encoding Country according to it's rank in no.of confirmed cases</center>"
   ]
  },
  {
   "cell_type": "code",
   "execution_count": 35,
   "metadata": {},
   "outputs": [],
   "source": [
    "train1= train[train['Target']=='ConfirmedCases']\n",
    "data1 = pd.DataFrame()\n",
    "data1['values'] =train1.TargetValue.groupby(train1['Country_Region']).sum().sort_values(ascending= False)\n",
    "data1['country'] = data1.index"
   ]
  },
  {
   "cell_type": "code",
   "execution_count": 36,
   "metadata": {},
   "outputs": [],
   "source": [
    "k = len(data1['country'])\n",
    "dict1 = {}\n",
    "for i in data1['country']:\n",
    "    dict1[i] = k\n",
    "    k =k-1"
   ]
  },
  {
   "cell_type": "code",
   "execution_count": 37,
   "metadata": {},
   "outputs": [
    {
     "name": "stderr",
     "output_type": "stream",
     "text": [
      "/opt/conda/lib/python3.7/site-packages/ipykernel_launcher.py:2: SettingWithCopyWarning: \n",
      "A value is trying to be set on a copy of a slice from a DataFrame.\n",
      "Try using .loc[row_indexer,col_indexer] = value instead\n",
      "\n",
      "See the caveats in the documentation: https://pandas.pydata.org/pandas-docs/stable/user_guide/indexing.html#returning-a-view-versus-a-copy\n",
      "  \n",
      "/opt/conda/lib/python3.7/site-packages/ipykernel_launcher.py:5: SettingWithCopyWarning: \n",
      "A value is trying to be set on a copy of a slice from a DataFrame.\n",
      "Try using .loc[row_indexer,col_indexer] = value instead\n",
      "\n",
      "See the caveats in the documentation: https://pandas.pydata.org/pandas-docs/stable/user_guide/indexing.html#returning-a-view-versus-a-copy\n",
      "  \"\"\"\n"
     ]
    }
   ],
   "source": [
    "list1=[]\n",
    "X['encoded_country']=0\n",
    "for i in X['Country_Region']:\n",
    "    list1.append(dict1[i])\n",
    "X['encoded_country'] = list1"
   ]
  },
  {
   "cell_type": "code",
   "execution_count": 38,
   "metadata": {},
   "outputs": [
    {
     "data": {
      "text/plain": [
       "187    690768\n",
       "180      7344\n",
       "178      2808\n",
       "184      2376\n",
       "182      2376\n",
       "152      1944\n",
       "172      1080\n",
       "147       648\n",
       "64        216\n",
       "63        216\n",
       "62        216\n",
       "61        216\n",
       "60        216\n",
       "59        216\n",
       "58        216\n",
       "57        216\n",
       "55        216\n",
       "56        216\n",
       "66        216\n",
       "54        216\n",
       "53        216\n",
       "52        216\n",
       "51        216\n",
       "50        216\n",
       "49        216\n",
       "48        216\n",
       "47        216\n",
       "65        216\n",
       "69        216\n",
       "67        216\n",
       "79        216\n",
       "88        216\n",
       "87        216\n",
       "86        216\n",
       "85        216\n",
       "84        216\n",
       "83        216\n",
       "82        216\n",
       "81        216\n",
       "80        216\n",
       "78        216\n",
       "68        216\n",
       "77        216\n",
       "76        216\n",
       "75        216\n",
       "74        216\n",
       "73        216\n",
       "72        216\n",
       "71        216\n",
       "70        216\n",
       "45        216\n",
       "46        216\n",
       "41        216\n",
       "44        216\n",
       "43        216\n",
       "20        216\n",
       "19        216\n",
       "18        216\n",
       "17        216\n",
       "16        216\n",
       "15        216\n",
       "14        216\n",
       "13        216\n",
       "12        216\n",
       "11        216\n",
       "10        216\n",
       "9         216\n",
       "8         216\n",
       "7         216\n",
       "6         216\n",
       "5         216\n",
       "4         216\n",
       "3         216\n",
       "2         216\n",
       "21        216\n",
       "22        216\n",
       "23        216\n",
       "34        216\n",
       "42        216\n",
       "90        216\n",
       "40        216\n",
       "39        216\n",
       "38        216\n",
       "37        216\n",
       "36        216\n",
       "35        216\n",
       "33        216\n",
       "24        216\n",
       "32        216\n",
       "31        216\n",
       "30        216\n",
       "29        216\n",
       "28        216\n",
       "27        216\n",
       "26        216\n",
       "25        216\n",
       "89        216\n",
       "94        216\n",
       "91        216\n",
       "136       216\n",
       "158       216\n",
       "157       216\n",
       "156       216\n",
       "155       216\n",
       "154       216\n",
       "153       216\n",
       "151       216\n",
       "150       216\n",
       "149       216\n",
       "148       216\n",
       "146       216\n",
       "145       216\n",
       "144       216\n",
       "143       216\n",
       "142       216\n",
       "141       216\n",
       "140       216\n",
       "139       216\n",
       "138       216\n",
       "159       216\n",
       "160       216\n",
       "161       216\n",
       "173       216\n",
       "185       216\n",
       "183       216\n",
       "181       216\n",
       "179       216\n",
       "177       216\n",
       "176       216\n",
       "175       216\n",
       "174       216\n",
       "171       216\n",
       "162       216\n",
       "170       216\n",
       "169       216\n",
       "168       216\n",
       "167       216\n",
       "166       216\n",
       "165       216\n",
       "164       216\n",
       "163       216\n",
       "137       216\n",
       "135       216\n",
       "92        216\n",
       "134       216\n",
       "111       216\n",
       "110       216\n",
       "109       216\n",
       "108       216\n",
       "107       216\n",
       "106       216\n",
       "105       216\n",
       "104       216\n",
       "103       216\n",
       "102       216\n",
       "101       216\n",
       "100       216\n",
       "99        216\n",
       "98        216\n",
       "97        216\n",
       "96        216\n",
       "95        216\n",
       "186       216\n",
       "93        216\n",
       "112       216\n",
       "113       216\n",
       "114       216\n",
       "125       216\n",
       "133       216\n",
       "132       216\n",
       "131       216\n",
       "130       216\n",
       "129       216\n",
       "128       216\n",
       "127       216\n",
       "126       216\n",
       "124       216\n",
       "115       216\n",
       "123       216\n",
       "122       216\n",
       "121       216\n",
       "120       216\n",
       "119       216\n",
       "118       216\n",
       "117       216\n",
       "116       216\n",
       "1         216\n",
       "Name: encoded_country, dtype: int64"
      ]
     },
     "execution_count": 38,
     "metadata": {},
     "output_type": "execute_result"
    }
   ],
   "source": [
    "X['encoded_country'].value_counts()"
   ]
  },
  {
   "cell_type": "markdown",
   "metadata": {},
   "source": [
    "# <center> Picking out date and month seperately</center>"
   ]
  },
  {
   "cell_type": "code",
   "execution_count": 39,
   "metadata": {},
   "outputs": [
    {
     "name": "stderr",
     "output_type": "stream",
     "text": [
      "/opt/conda/lib/python3.7/site-packages/ipykernel_launcher.py:1: SettingWithCopyWarning: \n",
      "A value is trying to be set on a copy of a slice from a DataFrame.\n",
      "Try using .loc[row_indexer,col_indexer] = value instead\n",
      "\n",
      "See the caveats in the documentation: https://pandas.pydata.org/pandas-docs/stable/user_guide/indexing.html#returning-a-view-versus-a-copy\n",
      "  \"\"\"Entry point for launching an IPython kernel.\n"
     ]
    }
   ],
   "source": [
    "X['date_dup'] = pd.to_datetime(X['Date'])"
   ]
  },
  {
   "cell_type": "code",
   "execution_count": 40,
   "metadata": {},
   "outputs": [
    {
     "name": "stderr",
     "output_type": "stream",
     "text": [
      "/opt/conda/lib/python3.7/site-packages/ipykernel_launcher.py:1: SettingWithCopyWarning: \n",
      "A value is trying to be set on a copy of a slice from a DataFrame.\n",
      "Try using .loc[row_indexer,col_indexer] = value instead\n",
      "\n",
      "See the caveats in the documentation: https://pandas.pydata.org/pandas-docs/stable/user_guide/indexing.html#returning-a-view-versus-a-copy\n",
      "  \"\"\"Entry point for launching an IPython kernel.\n",
      "/opt/conda/lib/python3.7/site-packages/ipykernel_launcher.py:5: SettingWithCopyWarning: \n",
      "A value is trying to be set on a copy of a slice from a DataFrame.\n",
      "Try using .loc[row_indexer,col_indexer] = value instead\n",
      "\n",
      "See the caveats in the documentation: https://pandas.pydata.org/pandas-docs/stable/user_guide/indexing.html#returning-a-view-versus-a-copy\n",
      "  \"\"\"\n"
     ]
    }
   ],
   "source": [
    "X['month'] = 0\n",
    "list1=[]\n",
    "for i in X['date_dup']:\n",
    "    list1.append(i.month)\n",
    "X['month'] = list1"
   ]
  },
  {
   "cell_type": "code",
   "execution_count": 41,
   "metadata": {},
   "outputs": [
    {
     "name": "stderr",
     "output_type": "stream",
     "text": [
      "/opt/conda/lib/python3.7/site-packages/ipykernel_launcher.py:1: SettingWithCopyWarning: \n",
      "A value is trying to be set on a copy of a slice from a DataFrame.\n",
      "Try using .loc[row_indexer,col_indexer] = value instead\n",
      "\n",
      "See the caveats in the documentation: https://pandas.pydata.org/pandas-docs/stable/user_guide/indexing.html#returning-a-view-versus-a-copy\n",
      "  \"\"\"Entry point for launching an IPython kernel.\n",
      "/opt/conda/lib/python3.7/site-packages/ipykernel_launcher.py:5: SettingWithCopyWarning: \n",
      "A value is trying to be set on a copy of a slice from a DataFrame.\n",
      "Try using .loc[row_indexer,col_indexer] = value instead\n",
      "\n",
      "See the caveats in the documentation: https://pandas.pydata.org/pandas-docs/stable/user_guide/indexing.html#returning-a-view-versus-a-copy\n",
      "  \"\"\"\n"
     ]
    }
   ],
   "source": [
    "X['date'] = 0\n",
    "list1=[]\n",
    "for i in X['date_dup']:\n",
    "    list1.append(i.day)\n",
    "X['date'] = list1"
   ]
  },
  {
   "cell_type": "code",
   "execution_count": 42,
   "metadata": {},
   "outputs": [
    {
     "data": {
      "text/html": [
       "<div>\n",
       "<style scoped>\n",
       "    .dataframe tbody tr th:only-of-type {\n",
       "        vertical-align: middle;\n",
       "    }\n",
       "\n",
       "    .dataframe tbody tr th {\n",
       "        vertical-align: top;\n",
       "    }\n",
       "\n",
       "    .dataframe thead th {\n",
       "        text-align: right;\n",
       "    }\n",
       "</style>\n",
       "<table border=\"1\" class=\"dataframe\">\n",
       "  <thead>\n",
       "    <tr style=\"text-align: right;\">\n",
       "      <th></th>\n",
       "      <th>Country_Region</th>\n",
       "      <th>Weight</th>\n",
       "      <th>Target</th>\n",
       "      <th>Date</th>\n",
       "      <th>encoded_country</th>\n",
       "      <th>date_dup</th>\n",
       "      <th>month</th>\n",
       "      <th>date</th>\n",
       "    </tr>\n",
       "  </thead>\n",
       "  <tbody>\n",
       "    <tr>\n",
       "      <th>0</th>\n",
       "      <td>Afghanistan</td>\n",
       "      <td>0.058359</td>\n",
       "      <td>0</td>\n",
       "      <td>2020-01-23</td>\n",
       "      <td>127</td>\n",
       "      <td>2020-01-23</td>\n",
       "      <td>1</td>\n",
       "      <td>23</td>\n",
       "    </tr>\n",
       "    <tr>\n",
       "      <th>1</th>\n",
       "      <td>Afghanistan</td>\n",
       "      <td>0.583587</td>\n",
       "      <td>1</td>\n",
       "      <td>2020-01-23</td>\n",
       "      <td>127</td>\n",
       "      <td>2020-01-23</td>\n",
       "      <td>1</td>\n",
       "      <td>23</td>\n",
       "    </tr>\n",
       "  </tbody>\n",
       "</table>\n",
       "</div>"
      ],
      "text/plain": [
       "  Country_Region    Weight  Target        Date  encoded_country   date_dup  month  date\n",
       "0    Afghanistan  0.058359       0  2020-01-23              127 2020-01-23      1    23\n",
       "1    Afghanistan  0.583587       1  2020-01-23              127 2020-01-23      1    23"
      ]
     },
     "execution_count": 42,
     "metadata": {},
     "output_type": "execute_result"
    }
   ],
   "source": [
    "X.head(2)"
   ]
  },
  {
   "cell_type": "code",
   "execution_count": 43,
   "metadata": {},
   "outputs": [
    {
     "name": "stderr",
     "output_type": "stream",
     "text": [
      "/opt/conda/lib/python3.7/site-packages/pandas/core/frame.py:3997: SettingWithCopyWarning: \n",
      "A value is trying to be set on a copy of a slice from a DataFrame\n",
      "\n",
      "See the caveats in the documentation: https://pandas.pydata.org/pandas-docs/stable/user_guide/indexing.html#returning-a-view-versus-a-copy\n",
      "  errors=errors,\n"
     ]
    }
   ],
   "source": [
    "X.drop(['Country_Region','Date','date_dup'],axis =1,inplace =True)"
   ]
  },
  {
   "cell_type": "code",
   "execution_count": 44,
   "metadata": {},
   "outputs": [
    {
     "data": {
      "text/html": [
       "<div>\n",
       "<style scoped>\n",
       "    .dataframe tbody tr th:only-of-type {\n",
       "        vertical-align: middle;\n",
       "    }\n",
       "\n",
       "    .dataframe tbody tr th {\n",
       "        vertical-align: top;\n",
       "    }\n",
       "\n",
       "    .dataframe thead th {\n",
       "        text-align: right;\n",
       "    }\n",
       "</style>\n",
       "<table border=\"1\" class=\"dataframe\">\n",
       "  <thead>\n",
       "    <tr style=\"text-align: right;\">\n",
       "      <th></th>\n",
       "      <th>Weight</th>\n",
       "      <th>Target</th>\n",
       "      <th>encoded_country</th>\n",
       "      <th>month</th>\n",
       "      <th>date</th>\n",
       "    </tr>\n",
       "  </thead>\n",
       "  <tbody>\n",
       "    <tr>\n",
       "      <th>0</th>\n",
       "      <td>0.058359</td>\n",
       "      <td>0</td>\n",
       "      <td>127</td>\n",
       "      <td>1</td>\n",
       "      <td>23</td>\n",
       "    </tr>\n",
       "    <tr>\n",
       "      <th>1</th>\n",
       "      <td>0.583587</td>\n",
       "      <td>1</td>\n",
       "      <td>127</td>\n",
       "      <td>1</td>\n",
       "      <td>23</td>\n",
       "    </tr>\n",
       "  </tbody>\n",
       "</table>\n",
       "</div>"
      ],
      "text/plain": [
       "     Weight  Target  encoded_country  month  date\n",
       "0  0.058359       0              127      1    23\n",
       "1  0.583587       1              127      1    23"
      ]
     },
     "execution_count": 44,
     "metadata": {},
     "output_type": "execute_result"
    }
   ],
   "source": [
    "X.head(2)"
   ]
  },
  {
   "cell_type": "markdown",
   "metadata": {},
   "source": [
    "# <center> Seeing the Correleation</center>"
   ]
  },
  {
   "cell_type": "code",
   "execution_count": 45,
   "metadata": {},
   "outputs": [
    {
     "data": {
      "text/plain": [
       "<matplotlib.axes._subplots.AxesSubplot at 0x7fcfd84a0ad0>"
      ]
     },
     "execution_count": 45,
     "metadata": {},
     "output_type": "execute_result"
    },
    {
     "data": {
      "image/png": "[encoded data removed]",
      "text/plain": [
       "<Figure size 720x720 with 2 Axes>"
      ]
     },
     "metadata": {
      "needs_background": "light"
     },
     "output_type": "display_data"
    }
   ],
   "source": [
    "plt.figure(figsize =(10,10))\n",
    "sns.heatmap(X.corr(),annot=True)"
   ]
  },
  {
   "cell_type": "code",
   "execution_count": 46,
   "metadata": {},
   "outputs": [],
   "source": [
    "from sklearn.model_selection import train_test_split as tts"
   ]
  },
  {
   "cell_type": "code",
   "execution_count": 47,
   "metadata": {},
   "outputs": [],
   "source": [
    "max_range =10"
   ]
  },
  {
   "cell_type": "code",
   "execution_count": 48,
   "metadata": {},
   "outputs": [],
   "source": [
    "from sklearn.ensemble import RandomForestRegressor as regr\n",
    "from sklearn.metrics import r2_score"
   ]
  },
  {
   "cell_type": "markdown",
   "metadata": {},
   "source": [
    "# Actually I did some processing to find the best random state and I commented because it takes so much time to run\n",
    "BEST RANDOM STATE:7"
   ]
  },
  {
   "cell_type": "code",
   "execution_count": 49,
   "metadata": {},
   "outputs": [
    {
     "data": {
      "text/plain": [
       "'for i in range(max_range):\\n    X_train,X_test,y_train,y_test = tts(X,y,test_size =0.3,random_state =i)\\n    model = regr()\\n    model.fit(X_train,y_train)\\n    print(\"Random state {}\\n\".format(i))\\n    print(r2_score(y_test,model.predict(X_test)))'"
      ]
     },
     "execution_count": 49,
     "metadata": {},
     "output_type": "execute_result"
    }
   ],
   "source": [
    "'''for i in range(max_range):\n",
    "    X_train,X_test,y_train,y_test = tts(X,y,test_size =0.3,random_state =i)\n",
    "    model = regr()\n",
    "    model.fit(X_train,y_train)\n",
    "    print(\"Random state {}\\n\".format(i))\n",
    "    print(r2_score(y_test,model.predict(X_test)))'''"
   ]
  },
  {
   "cell_type": "code",
   "execution_count": 50,
   "metadata": {},
   "outputs": [
    {
     "name": "stderr",
     "output_type": "stream",
     "text": [
      "/opt/conda/lib/python3.7/site-packages/ipykernel_launcher.py:3: DataConversionWarning: A column-vector y was passed when a 1d array was expected. Please change the shape of y to (n_samples,), for example using ravel().\n",
      "  This is separate from the ipykernel package so we can avoid doing imports until\n"
     ]
    },
    {
     "data": {
      "text/plain": [
       "RandomForestRegressor(bootstrap=True, ccp_alpha=0.0, criterion='mse',\n",
       "                      max_depth=None, max_features='auto', max_leaf_nodes=None,\n",
       "                      max_samples=None, min_impurity_decrease=0.0,\n",
       "                      min_impurity_split=None, min_samples_leaf=1,\n",
       "                      min_samples_split=2, min_weight_fraction_leaf=0.0,\n",
       "                      n_estimators=100, n_jobs=None, oob_score=False,\n",
       "                      random_state=None, verbose=0, warm_start=False)"
      ]
     },
     "execution_count": 50,
     "metadata": {},
     "output_type": "execute_result"
    }
   ],
   "source": [
    "X_train,X_test,y_train,y_test = tts(X,y,test_size =0.3,random_state =7)\n",
    "model = regr()\n",
    "model.fit(X_train,y_train)"
   ]
  },
  {
   "cell_type": "code",
   "execution_count": 51,
   "metadata": {},
   "outputs": [
    {
     "name": "stdout",
     "output_type": "stream",
     "text": [
      "0.9537118678170063\n"
     ]
    }
   ],
   "source": [
    "print(r2_score(y_test,model.predict(X_test)))"
   ]
  },
  {
   "cell_type": "markdown",
   "metadata": {},
   "source": [
    "# <center>Preprocessing the test data in the same way we did for training data</center>"
   ]
  },
  {
   "cell_type": "code",
   "execution_count": 52,
   "metadata": {},
   "outputs": [],
   "source": [
    "test = test[independent_columns]"
   ]
  },
  {
   "cell_type": "code",
   "execution_count": 53,
   "metadata": {},
   "outputs": [],
   "source": [
    "list1=[]\n",
    "test['encoded_country']=0\n",
    "for i in test['Country_Region']:\n",
    "    list1.append(dict1[i])\n",
    "test['encoded_country'] = list1"
   ]
  },
  {
   "cell_type": "code",
   "execution_count": 54,
   "metadata": {},
   "outputs": [],
   "source": [
    "test['date_dup'] = pd.to_datetime(test['Date'])"
   ]
  },
  {
   "cell_type": "code",
   "execution_count": 55,
   "metadata": {},
   "outputs": [],
   "source": [
    "test['month'] = 0\n",
    "list1=[]\n",
    "for i in test['date_dup']:\n",
    "    list1.append(i.month)\n",
    "test['month'] = list1"
   ]
  },
  {
   "cell_type": "code",
   "execution_count": 56,
   "metadata": {},
   "outputs": [],
   "source": [
    "test['date'] = 0\n",
    "list1=[]\n",
    "for i in test['date_dup']:\n",
    "    list1.append(i.day)\n",
    "test['date'] = list1"
   ]
  },
  {
   "cell_type": "code",
   "execution_count": 57,
   "metadata": {},
   "outputs": [
    {
     "data": {
      "text/html": [
       "<div>\n",
       "<style scoped>\n",
       "    .dataframe tbody tr th:only-of-type {\n",
       "        vertical-align: middle;\n",
       "    }\n",
       "\n",
       "    .dataframe tbody tr th {\n",
       "        vertical-align: top;\n",
       "    }\n",
       "\n",
       "    .dataframe thead th {\n",
       "        text-align: right;\n",
       "    }\n",
       "</style>\n",
       "<table border=\"1\" class=\"dataframe\">\n",
       "  <thead>\n",
       "    <tr style=\"text-align: right;\">\n",
       "      <th></th>\n",
       "      <th>Country_Region</th>\n",
       "      <th>Weight</th>\n",
       "      <th>Target</th>\n",
       "      <th>Date</th>\n",
       "      <th>encoded_country</th>\n",
       "      <th>date_dup</th>\n",
       "      <th>month</th>\n",
       "      <th>date</th>\n",
       "    </tr>\n",
       "  </thead>\n",
       "  <tbody>\n",
       "    <tr>\n",
       "      <th>0</th>\n",
       "      <td>Afghanistan</td>\n",
       "      <td>0.058359</td>\n",
       "      <td>ConfirmedCases</td>\n",
       "      <td>2020-04-27</td>\n",
       "      <td>127</td>\n",
       "      <td>2020-04-27</td>\n",
       "      <td>4</td>\n",
       "      <td>27</td>\n",
       "    </tr>\n",
       "    <tr>\n",
       "      <th>1</th>\n",
       "      <td>Afghanistan</td>\n",
       "      <td>0.583587</td>\n",
       "      <td>Fatalities</td>\n",
       "      <td>2020-04-27</td>\n",
       "      <td>127</td>\n",
       "      <td>2020-04-27</td>\n",
       "      <td>4</td>\n",
       "      <td>27</td>\n",
       "    </tr>\n",
       "  </tbody>\n",
       "</table>\n",
       "</div>"
      ],
      "text/plain": [
       "  Country_Region    Weight          Target        Date  encoded_country   date_dup  month  date\n",
       "0    Afghanistan  0.058359  ConfirmedCases  2020-04-27              127 2020-04-27      4    27\n",
       "1    Afghanistan  0.583587      Fatalities  2020-04-27              127 2020-04-27      4    27"
      ]
     },
     "execution_count": 57,
     "metadata": {},
     "output_type": "execute_result"
    }
   ],
   "source": [
    "test.head(2)"
   ]
  },
  {
   "cell_type": "code",
   "execution_count": 58,
   "metadata": {},
   "outputs": [],
   "source": [
    "test.drop(['Country_Region','Date','date_dup'],axis =1,inplace =True)"
   ]
  },
  {
   "cell_type": "code",
   "execution_count": 59,
   "metadata": {},
   "outputs": [
    {
     "data": {
      "text/html": [
       "<div>\n",
       "<style scoped>\n",
       "    .dataframe tbody tr th:only-of-type {\n",
       "        vertical-align: middle;\n",
       "    }\n",
       "\n",
       "    .dataframe tbody tr th {\n",
       "        vertical-align: top;\n",
       "    }\n",
       "\n",
       "    .dataframe thead th {\n",
       "        text-align: right;\n",
       "    }\n",
       "</style>\n",
       "<table border=\"1\" class=\"dataframe\">\n",
       "  <thead>\n",
       "    <tr style=\"text-align: right;\">\n",
       "      <th></th>\n",
       "      <th>Weight</th>\n",
       "      <th>Target</th>\n",
       "      <th>encoded_country</th>\n",
       "      <th>month</th>\n",
       "      <th>date</th>\n",
       "    </tr>\n",
       "  </thead>\n",
       "  <tbody>\n",
       "    <tr>\n",
       "      <th>0</th>\n",
       "      <td>0.058359</td>\n",
       "      <td>ConfirmedCases</td>\n",
       "      <td>127</td>\n",
       "      <td>4</td>\n",
       "      <td>27</td>\n",
       "    </tr>\n",
       "    <tr>\n",
       "      <th>1</th>\n",
       "      <td>0.583587</td>\n",
       "      <td>Fatalities</td>\n",
       "      <td>127</td>\n",
       "      <td>4</td>\n",
       "      <td>27</td>\n",
       "    </tr>\n",
       "  </tbody>\n",
       "</table>\n",
       "</div>"
      ],
      "text/plain": [
       "     Weight          Target  encoded_country  month  date\n",
       "0  0.058359  ConfirmedCases              127      4    27\n",
       "1  0.583587      Fatalities              127      4    27"
      ]
     },
     "execution_count": 59,
     "metadata": {},
     "output_type": "execute_result"
    }
   ],
   "source": [
    "test.head(2)"
   ]
  },
  {
   "cell_type": "code",
   "execution_count": 60,
   "metadata": {},
   "outputs": [],
   "source": [
    "le1 =LabelEncoder()\n",
    "test['Target'] = le1.fit_transform(test['Target'])"
   ]
  },
  {
   "cell_type": "code",
   "execution_count": 61,
   "metadata": {},
   "outputs": [],
   "source": [
    "pred = model.predict(test)"
   ]
  },
  {
   "cell_type": "code",
   "execution_count": 62,
   "metadata": {},
   "outputs": [],
   "source": [
    "t =pd.read_csv('/kaggle/input/covid19-global-forecasting-week-5/test.csv')\n",
    "ss = pd.read_csv('/kaggle/input/covid19-global-forecasting-week-5/submission.csv')"
   ]
  },
  {
   "cell_type": "code",
   "execution_count": 63,
   "metadata": {},
   "outputs": [],
   "source": [
    "output = pd.DataFrame({'Id': t.ForecastId  , 'TargetValue': pred})"
   ]
  },
  {
   "cell_type": "code",
   "execution_count": 64,
   "metadata": {},
   "outputs": [],
   "source": [
    "a=output.groupby(['Id'])['TargetValue'].quantile(q=0.05).reset_index()\n",
    "b=output.groupby(['Id'])['TargetValue'].quantile(q=0.5).reset_index()\n",
    "c=output.groupby(['Id'])['TargetValue'].quantile(q=0.95).reset_index()"
   ]
  },
  {
   "cell_type": "code",
   "execution_count": 65,
   "metadata": {},
   "outputs": [],
   "source": [
    "a.columns=['Id','q0.05']\n",
    "b.columns=['Id','q0.5']\n",
    "c.columns=['Id','q0.95']\n",
    "a=pd.concat([a,b['q0.5'],c['q0.95']],1)\n",
    "a['q0.05']=a['q0.05']\n",
    "a['q0.5']=a['q0.5']\n",
    "a['q0.95']=a['q0.95']"
   ]
  },
  {
   "cell_type": "code",
   "execution_count": 66,
   "metadata": {},
   "outputs": [
    {
     "data": {
      "text/html": [
       "<div>\n",
       "<style scoped>\n",
       "    .dataframe tbody tr th:only-of-type {\n",
       "        vertical-align: middle;\n",
       "    }\n",
       "\n",
       "    .dataframe tbody tr th {\n",
       "        vertical-align: top;\n",
       "    }\n",
       "\n",
       "    .dataframe thead th {\n",
       "        text-align: right;\n",
       "    }\n",
       "</style>\n",
       "<table border=\"1\" class=\"dataframe\">\n",
       "  <thead>\n",
       "    <tr style=\"text-align: right;\">\n",
       "      <th></th>\n",
       "      <th>ForecastId_Quantile</th>\n",
       "      <th>TargetValue</th>\n",
       "    </tr>\n",
       "  </thead>\n",
       "  <tbody>\n",
       "    <tr>\n",
       "      <th>0</th>\n",
       "      <td>1_0.05</td>\n",
       "      <td>132.65</td>\n",
       "    </tr>\n",
       "    <tr>\n",
       "      <th>1</th>\n",
       "      <td>2_0.05</td>\n",
       "      <td>5.22</td>\n",
       "    </tr>\n",
       "    <tr>\n",
       "      <th>2</th>\n",
       "      <td>3_0.05</td>\n",
       "      <td>147.24</td>\n",
       "    </tr>\n",
       "    <tr>\n",
       "      <th>3</th>\n",
       "      <td>4_0.05</td>\n",
       "      <td>2.53</td>\n",
       "    </tr>\n",
       "    <tr>\n",
       "      <th>4</th>\n",
       "      <td>5_0.05</td>\n",
       "      <td>120.59</td>\n",
       "    </tr>\n",
       "  </tbody>\n",
       "</table>\n",
       "</div>"
      ],
      "text/plain": [
       "  ForecastId_Quantile  TargetValue\n",
       "0              1_0.05       132.65\n",
       "1              2_0.05         5.22\n",
       "2              3_0.05       147.24\n",
       "3              4_0.05         2.53\n",
       "4              5_0.05       120.59"
      ]
     },
     "execution_count": 66,
     "metadata": {},
     "output_type": "execute_result"
    }
   ],
   "source": [
    "sub=pd.melt(a, id_vars=['Id'], value_vars=['q0.05','q0.5','q0.95'])\n",
    "sub['variable']=sub['variable'].str.replace(\"q\",\"\", regex=False)\n",
    "sub['ForecastId_Quantile']=sub['Id'].astype(str)+'_'+sub['variable']\n",
    "sub['TargetValue']=sub['value']\n",
    "sub=sub[['ForecastId_Quantile','TargetValue']]\n",
    "sub.reset_index(drop=True,inplace=True)\n",
    "sub.to_csv(\"submission.csv\",index=False)\n",
    "sub.head()"
   ]
  },
  {
   "cell_type": "code",
   "execution_count": 67,
   "metadata": {},
   "outputs": [
    {
     "name": "stdout",
     "output_type": "stream",
     "text": [
      "<class 'pandas.core.frame.DataFrame'>\n",
      "RangeIndex: 935010 entries, 0 to 935009\n",
      "Data columns (total 2 columns):\n",
      " #   Column               Non-Null Count   Dtype  \n",
      "---  ------               --------------   -----  \n",
      " 0   ForecastId_Quantile  935010 non-null  object \n",
      " 1   TargetValue          935010 non-null  float64\n",
      "dtypes: float64(1), object(1)\n",
      "memory usage: 14.3+ MB\n"
     ]
    }
   ],
   "source": [
    "sub.info()"
   ]
  }
 ],
 "metadata": {
  "kernelspec": {
   "display_name": "Python 3",
   "language": "python",
   "name": "python3"
  },
  "language_info": {
   "codemirror_mode": {
    "name": "ipython",
    "version": 3
   },
   "file_extension": ".py",
   "mimetype": "text/x-python",
   "name": "python",
   "nbconvert_exporter": "python",
   "pygments_lexer": "ipython3",
   "version": "3.6.8"
  }
 },
 "nbformat": 4,
 "nbformat_minor": 4
}
